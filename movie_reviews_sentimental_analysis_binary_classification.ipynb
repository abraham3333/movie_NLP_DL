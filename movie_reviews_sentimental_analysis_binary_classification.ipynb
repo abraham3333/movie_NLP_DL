{
  "cells": [
    {
      "cell_type": "markdown",
      "metadata": {
        "id": "OYPNev5C059x"
      },
      "source": [
        "The purpose of this nb is to predict whether a review from IMDB (Internet Movie Database) is positive (1) or negative (0), determining the sentiment or attitude of the writer, through binary classification using a Keras deep learning model and the IMDB dataset."
      ]
    },
    {
      "cell_type": "code",
      "execution_count": 1,
      "metadata": {
        "id": "kSbFGBOW0590"
      },
      "outputs": [],
      "source": [
        "import matplotlib.pyplot as plt  # plotting\n",
        "import numpy as np  # linear algebra, arrays\n",
        "from tensorflow.keras import layers, models\n",
        "from tensorflow.keras.datasets import imdb  # imdb dataset\n",
        "from tensorflow.keras.preprocessing.text import Tokenizer  # text processing"
      ]
    },
    {
      "cell_type": "markdown",
      "metadata": {
        "id": "wlpeQXLZ0592"
      },
      "source": [
        "Set top frequent words limit in 2000"
      ]
    },
    {
      "cell_type": "code",
      "execution_count": 2,
      "metadata": {
        "id": "s2dRSs6k05-C"
      },
      "outputs": [],
      "source": [
        "top_freq_words = 2000"
      ]
    },
    {
      "cell_type": "markdown",
      "metadata": {
        "id": "63lJ4D5T05-E"
      },
      "source": [
        "Loading imdb dataset"
      ]
    },
    {
      "cell_type": "code",
      "execution_count": 3,
      "metadata": {
        "colab": {
          "base_uri": "https://localhost:8080/"
        },
        "id": "-EypMLQb05-F",
        "outputId": "9d4ec869-bf36-44d3-f827-e808762c7162"
      },
      "outputs": [
        {
          "output_type": "stream",
          "name": "stdout",
          "text": [
            "Downloading data from https://storage.googleapis.com/tensorflow/tf-keras-datasets/imdb.npz\n",
            "17464789/17464789 [==============================] - 0s 0us/step\n"
          ]
        }
      ],
      "source": [
        "(train_features, train_labels), (test_features, test_labels) = imdb.load_data(\n",
        "    num_words=top_freq_words\n",
        ")"
      ]
    },
    {
      "cell_type": "markdown",
      "metadata": {
        "id": "SJd1GTCn05-I"
      },
      "source": [
        "**Data evaluation**"
      ]
    },
    {
      "cell_type": "code",
      "execution_count": 7,
      "metadata": {
        "colab": {
          "base_uri": "https://localhost:8080/"
        },
        "id": "4vSyb88d05-I",
        "outputId": "1ed1aac3-9d2c-44e1-d77c-fb00bb0858e9"
      },
      "outputs": [
        {
          "output_type": "stream",
          "name": "stdout",
          "text": [
            "Train features: 25000\n",
            "Test features: 25000\n"
          ]
        }
      ],
      "source": [
        "print(f\"Train features: {len(train_features)}\")\n",
        "print(f\"Test features: {len(test_features)}\")"
      ]
    },
    {
      "cell_type": "code",
      "execution_count": 8,
      "metadata": {
        "colab": {
          "base_uri": "https://localhost:8080/"
        },
        "id": "sDSvrUF805-K",
        "outputId": "8eee8d01-02a7-4189-a113-b9d4f215012d"
      },
      "outputs": [
        {
          "output_type": "stream",
          "name": "stdout",
          "text": [
            "Number of unique words: 2000\n",
            "Number of categories: 2\n"
          ]
        }
      ],
      "source": [
        "print(f\"Number of unique words: {max([max(words) for words in train_features]) + 1}\")\n",
        "print(f\"Number of categories: {max(train_labels) + 1}\")"
      ]
    },
    {
      "cell_type": "code",
      "execution_count": 9,
      "metadata": {
        "colab": {
          "base_uri": "https://localhost:8080/"
        },
        "id": "RA5U6yc705-L",
        "outputId": "d15d8ac0-8e24-4f4d-b48b-931759458958"
      },
      "outputs": [
        {
          "output_type": "stream",
          "name": "stdout",
          "text": [
            "Train features sample: [1, 14, 22, 16, 43, 530, 973, 1622, 1385, 65, 458, 2, 66, 2, 4, 173, 36, 256, 5, 25, 100, 43, 838, 112, 50, 670, 2, 9, 35, 480, 284, 5, 150, 4, 172, 112, 167, 2, 336, 385, 39, 4, 172, 2, 1111, 17, 546, 38, 13, 447, 4, 192, 50, 16, 6, 147, 2, 19, 14, 22, 4, 1920, 2, 469, 4, 22, 71, 87, 12, 16, 43, 530, 38, 76, 15, 13, 1247, 4, 22, 17, 515, 17, 12, 16, 626, 18, 2, 5, 62, 386, 12, 8, 316, 8, 106, 5, 4, 2, 2, 16, 480, 66, 2, 33, 4, 130, 12, 16, 38, 619, 5, 25, 124, 51, 36, 135, 48, 25, 1415, 33, 6, 22, 12, 215, 28, 77, 52, 5, 14, 407, 16, 82, 2, 8, 4, 107, 117, 2, 15, 256, 4, 2, 7, 2, 5, 723, 36, 71, 43, 530, 476, 26, 400, 317, 46, 7, 4, 2, 1029, 13, 104, 88, 4, 381, 15, 297, 98, 32, 2, 56, 26, 141, 6, 194, 2, 18, 4, 226, 22, 21, 134, 476, 26, 480, 5, 144, 30, 2, 18, 51, 36, 28, 224, 92, 25, 104, 4, 226, 65, 16, 38, 1334, 88, 12, 16, 283, 5, 16, 2, 113, 103, 32, 15, 16, 2, 19, 178, 32]\n",
            "Train labels sample: 1\n"
          ]
        }
      ],
      "source": [
        "print(f\"Train features sample: {train_features[0]}\")\n",
        "print(f\"Train labels sample: {train_labels[0]}\")"
      ]
    },
    {
      "cell_type": "code",
      "source": [
        "print(f\"Train features sample: {test_features[0]}\")\n",
        "print(f\"Train labels sample: {test_labels[0]}\")"
      ],
      "metadata": {
        "colab": {
          "base_uri": "https://localhost:8080/"
        },
        "id": "XpZFYqFsB4pc",
        "outputId": "b10ba923-4d7c-42eb-b95d-17161d030ca3"
      },
      "execution_count": 57,
      "outputs": [
        {
          "output_type": "stream",
          "name": "stdout",
          "text": [
            "Train features sample: [1, 591, 202, 14, 31, 6, 717, 10, 10, 2, 2, 5, 4, 360, 7, 4, 177, 2, 394, 354, 4, 123, 9, 1035, 1035, 1035, 10, 10, 13, 92, 124, 89, 488, 2, 100, 28, 1668, 14, 31, 23, 27, 2, 29, 220, 468, 8, 124, 14, 286, 170, 8, 157, 46, 5, 27, 239, 16, 179, 2, 38, 32, 25, 2, 451, 202, 14, 6, 717]\n",
            "Train labels sample: 0\n"
          ]
        }
      ]
    },
    {
      "cell_type": "markdown",
      "metadata": {
        "id": "vjxFB2ZG05-M"
      },
      "source": [
        "To decode the integer encoded train sample is required the word index"
      ]
    },
    {
      "cell_type": "code",
      "execution_count": 10,
      "metadata": {
        "colab": {
          "base_uri": "https://localhost:8080/"
        },
        "id": "CFEf3liN05-M",
        "outputId": "9ae3594d-09fc-4e0e-8754-ec99677291d2"
      },
      "outputs": [
        {
          "output_type": "stream",
          "name": "stdout",
          "text": [
            "Downloading data from https://storage.googleapis.com/tensorflow/tf-keras-datasets/imdb_word_index.json\n",
            "1641221/1641221 [==============================] - 0s 0us/step\n"
          ]
        }
      ],
      "source": [
        "word_index = imdb.get_word_index()"
      ]
    },
    {
      "cell_type": "markdown",
      "metadata": {
        "id": "rSqcaeg605-N"
      },
      "source": [
        "Decoding of integer encoded train sample with unknown words showed as '?'"
      ]
    },
    {
      "cell_type": "code",
      "execution_count": 52,
      "metadata": {
        "colab": {
          "base_uri": "https://localhost:8080/"
        },
        "id": "_Zr_dwA-05-N",
        "outputId": "6efc0c60-bd11-4dfa-d94e-7576a25f48a5"
      },
      "outputs": [
        {
          "output_type": "stream",
          "name": "stdout",
          "text": [
            "Decoded train sample: ? this film was just brilliant casting location scenery story direction ? really ? the part they played and you could just imagine being there robert ? is an amazing actor and now the same being director ? father came from the same ? island as myself so i loved the fact there was a real ? with this film the witty ? throughout the film were great it was just brilliant so much that i bought the film as soon as it was released for ? and would recommend it to everyone to watch and the ? ? was amazing really ? at the end it was so sad and you know what they say if you cry at a film it must have been good and this definitely was also ? to the two little ? that played the ? of ? and paul they were just brilliant children are often left out of the ? list i think because the stars that play them all ? up are such a big ? for the whole film but these children are amazing and should be ? for what they have done don't you think the whole story was so lovely because it was true and was ? life after all that was ? with us all\n"
          ]
        }
      ],
      "source": [
        "reverse_word_index = dict([(value, key) for (key, value) in word_index.items()])\n",
        "decoded_train_sample = \" \".join([reverse_word_index.get(i - 3, \"?\") for i in train_features[0]])\n",
        "print(f\"Decoded train sample: {decoded_train_sample}\")"
      ]
    },
    {
      "cell_type": "code",
      "source": [
        "reverse_word_index1 = dict([(value, key) for (key, value) in word_index.items()])\n",
        "decoded_test_sample = \" \".join([reverse_word_index1.get(i - 3, \"?\") for i in test_features[0]])\n",
        "print(f\"Decoded test sample: {decoded_test_sample}\")"
      ],
      "metadata": {
        "colab": {
          "base_uri": "https://localhost:8080/"
        },
        "id": "9IiZ7vzX5cH7",
        "outputId": "219c54bc-3f2f-4ac0-a05a-f4989605dbae"
      },
      "execution_count": 56,
      "outputs": [
        {
          "output_type": "stream",
          "name": "stdout",
          "text": [
            "Decoded test sample: ? please give this one a miss br br ? ? and the rest of the cast ? terrible performances the show is flat flat flat br br i don't know how michael ? could have allowed this one on his ? he almost seemed to know this wasn't going to work out and his performance was quite ? so all you ? fans give this a miss\n"
          ]
        }
      ]
    },
    {
      "cell_type": "markdown",
      "metadata": {
        "id": "HOO9jZ7u05-O"
      },
      "source": [
        "**Data preparation**"
      ]
    },
    {
      "cell_type": "markdown",
      "metadata": {
        "id": "FdeJ2-VP05-O"
      },
      "source": [
        "Use of Tokenizer for preparing integer encoded text documents for deep learning. Tokenizer must be created and then fit on text documents before encoding train and test documents"
      ]
    },
    {
      "cell_type": "code",
      "execution_count": 31,
      "metadata": {
        "id": "wq4TQ8GJ05-O"
      },
      "outputs": [],
      "source": [
        "tokenizer = Tokenizer(num_words=top_freq_words)\n",
        "tokenizer.fit_on_sequences(train_features)\n",
        "train_features_b = tokenizer.sequences_to_matrix(train_features, mode=\"binary\")\n",
        "test_features_b = tokenizer.sequences_to_matrix(test_features, mode=\"binary\")"
      ]
    },
    {
      "cell_type": "code",
      "execution_count": 32,
      "metadata": {
        "id": "r8mnFSrZ05-P"
      },
      "outputs": [],
      "source": [
        "train_labels_b = np.asarray(train_labels).astype(\"float32\")\n",
        "test_labels_b = np.asarray(test_labels).astype(\"float32\")"
      ]
    },
    {
      "cell_type": "code",
      "execution_count": 33,
      "metadata": {
        "colab": {
          "base_uri": "https://localhost:8080/"
        },
        "id": "4yFfLl5A05-Q",
        "outputId": "9d921002-e7f4-4bcb-ba4a-7a61a1934f19"
      },
      "outputs": [
        {
          "output_type": "stream",
          "name": "stdout",
          "text": [
            "(25000, 2000)\n",
            "[0. 1. 1. ... 0. 0. 0.]\n"
          ]
        }
      ],
      "source": [
        "print(train_features_b.shape)\n",
        "print(train_features_b[1])"
      ]
    },
    {
      "cell_type": "code",
      "execution_count": 34,
      "metadata": {
        "colab": {
          "base_uri": "https://localhost:8080/"
        },
        "id": "ixNx6Z7n05-R",
        "outputId": "870099af-f053-4cf0-ef31-b3030be97a6b"
      },
      "outputs": [
        {
          "output_type": "stream",
          "name": "stdout",
          "text": [
            "(25000,)\n",
            "0.0\n"
          ]
        }
      ],
      "source": [
        "print(train_labels_b.shape)\n",
        "print(train_labels_b[1])"
      ]
    },
    {
      "cell_type": "markdown",
      "metadata": {
        "id": "IJkp_uxx05-R"
      },
      "source": [
        "Build a sequential model with a method that can be reused"
      ]
    },
    {
      "cell_type": "code",
      "execution_count": 35,
      "metadata": {
        "id": "uaF2BuCK05-S"
      },
      "outputs": [],
      "source": [
        "def build_model():\n",
        "    model = models.Sequential()\n",
        "    model.add(layers.Dense(24, activation=\"relu\", input_shape=(top_freq_words,)))\n",
        "    model.add(layers.Dense(24, activation=\"relu\"))\n",
        "    model.add(layers.Dense(1, activation=\"sigmoid\"))\n",
        "    model.compile(optimizer=\"rmsprop\", loss=\"binary_crossentropy\", metrics=[\"accuracy\"])\n",
        "    return model"
      ]
    },
    {
      "cell_type": "code",
      "execution_count": 36,
      "metadata": {
        "id": "5ZdqrT4i05-S"
      },
      "outputs": [],
      "source": [
        "model = build_model()"
      ]
    },
    {
      "cell_type": "markdown",
      "metadata": {
        "id": "LK5AKZVl05-T"
      },
      "source": [
        "Split train features to create validation dataset (25%)"
      ]
    },
    {
      "cell_type": "code",
      "execution_count": 37,
      "metadata": {
        "id": "modp2LHq05-T"
      },
      "outputs": [],
      "source": [
        "from sklearn.model_selection import train_test_split\n",
        "\n",
        "(partial_train_feat, val_feat, partial_train_lab, val_lab) = train_test_split(\n",
        "    train_features_b, train_labels_b, test_size=0.25, random_state=4\n",
        ")"
      ]
    },
    {
      "cell_type": "markdown",
      "metadata": {
        "id": "sXePIpm705-T"
      },
      "source": [
        "Training the model for 10 epochs or passes over the entire dataset"
      ]
    },
    {
      "cell_type": "code",
      "execution_count": 38,
      "metadata": {
        "colab": {
          "base_uri": "https://localhost:8080/"
        },
        "id": "8VQIgLCA05-U",
        "outputId": "4f80c204-07fb-419b-a6b2-9980d122da77"
      },
      "outputs": [
        {
          "output_type": "stream",
          "name": "stdout",
          "text": [
            "Epoch 1/10\n",
            "37/37 [==============================] - 1s 13ms/step - loss: 0.5115 - accuracy: 0.7730 - val_loss: 0.3874 - val_accuracy: 0.8480\n",
            "Epoch 2/10\n",
            "37/37 [==============================] - 0s 7ms/step - loss: 0.3438 - accuracy: 0.8631 - val_loss: 0.3187 - val_accuracy: 0.8704\n",
            "Epoch 3/10\n",
            "37/37 [==============================] - 0s 7ms/step - loss: 0.2948 - accuracy: 0.8819 - val_loss: 0.3039 - val_accuracy: 0.8755\n",
            "Epoch 4/10\n",
            "37/37 [==============================] - 0s 7ms/step - loss: 0.2729 - accuracy: 0.8916 - val_loss: 0.3074 - val_accuracy: 0.8765\n",
            "Epoch 5/10\n",
            "37/37 [==============================] - 0s 8ms/step - loss: 0.2590 - accuracy: 0.8971 - val_loss: 0.3493 - val_accuracy: 0.8550\n",
            "Epoch 6/10\n",
            "37/37 [==============================] - 0s 6ms/step - loss: 0.2490 - accuracy: 0.9002 - val_loss: 0.3280 - val_accuracy: 0.8699\n",
            "Epoch 7/10\n",
            "37/37 [==============================] - 0s 8ms/step - loss: 0.2438 - accuracy: 0.9023 - val_loss: 0.3076 - val_accuracy: 0.8730\n",
            "Epoch 8/10\n",
            "37/37 [==============================] - 0s 6ms/step - loss: 0.2400 - accuracy: 0.9045 - val_loss: 0.3117 - val_accuracy: 0.8691\n",
            "Epoch 9/10\n",
            "37/37 [==============================] - 0s 8ms/step - loss: 0.2348 - accuracy: 0.9049 - val_loss: 0.3521 - val_accuracy: 0.8646\n",
            "Epoch 10/10\n",
            "37/37 [==============================] - 0s 11ms/step - loss: 0.2315 - accuracy: 0.9062 - val_loss: 0.3200 - val_accuracy: 0.8706\n"
          ]
        }
      ],
      "source": [
        "history = model.fit(\n",
        "    partial_train_feat,\n",
        "    partial_train_lab,\n",
        "    epochs=10,\n",
        "    batch_size=512,\n",
        "    validation_data=(val_feat, val_lab),\n",
        ")"
      ]
    },
    {
      "cell_type": "markdown",
      "metadata": {
        "id": "nZfvaO9G05-U"
      },
      "source": [
        "Plotting training and validation loss"
      ]
    },
    {
      "cell_type": "code",
      "execution_count": 39,
      "metadata": {
        "colab": {
          "base_uri": "https://localhost:8080/",
          "height": 472
        },
        "id": "DN7yVDwx05-V",
        "outputId": "cb5482b8-7f76-42f4-a5de-bd7c57853e6b"
      },
      "outputs": [
        {
          "output_type": "display_data",
          "data": {
            "text/plain": [
              "<Figure size 640x480 with 1 Axes>"
            ],
            "image/png": "[encoded data removed]"
          },
          "metadata": {}
        }
      ],
      "source": [
        "loss = history.history[\"loss\"]\n",
        "validation_loss = history.history[\"val_loss\"]\n",
        "epochs = range(1, len(loss) + 1)\n",
        "plt.plot(epochs, loss, \"bo\", label=\"Training loss\")\n",
        "plt.plot(epochs, validation_loss, \"b\", label=\"Validation loss\")\n",
        "plt.title(\"Training and validation loss\")\n",
        "plt.xlabel(\"Epochs\")\n",
        "plt.ylabel(\"Loss\")\n",
        "plt.legend()\n",
        "\n",
        "plt.show()"
      ]
    },
    {
      "cell_type": "markdown",
      "metadata": {
        "id": "GvwB2iLo05-V"
      },
      "source": [
        "Plotting training and validation accuracy"
      ]
    },
    {
      "cell_type": "code",
      "execution_count": 40,
      "metadata": {
        "colab": {
          "base_uri": "https://localhost:8080/",
          "height": 472
        },
        "id": "TShJfFd605-W",
        "outputId": "b7272909-bef1-4fae-a59d-4e03fd461f55"
      },
      "outputs": [
        {
          "output_type": "display_data",
          "data": {
            "text/plain": [
              "<Figure size 640x480 with 1 Axes>"
            ],
            "image/png": "[encoded data removed]"
          },
          "metadata": {}
        }
      ],
      "source": [
        "acc = history.history[\"accuracy\"]\n",
        "validation_acc = history.history[\"val_accuracy\"]\n",
        "\n",
        "plt.plot(epochs, acc, \"bo\", label=\"Training accuracy\")\n",
        "plt.plot(epochs, validation_acc, \"b\", label=\"Validation accuracy\")\n",
        "plt.title(\"Training and validation accuracy\")\n",
        "plt.xlabel(\"Epochs\")\n",
        "plt.ylabel(\"Loss\")\n",
        "plt.legend()\n",
        "\n",
        "plt.show()"
      ]
    },
    {
      "cell_type": "markdown",
      "metadata": {
        "id": "S7gll-cE05-W"
      },
      "source": [
        "Overfit starts after 4 epochs"
      ]
    },
    {
      "cell_type": "markdown",
      "metadata": {
        "id": "wbqY3esO05-X"
      },
      "source": [
        "Rebuild and retrain the model from scratch for 4 epochs to avoid overfit. Note that validation set is not used for this time"
      ]
    },
    {
      "cell_type": "code",
      "execution_count": 41,
      "metadata": {
        "id": "fEM5guJU05-X"
      },
      "outputs": [],
      "source": [
        "model = build_model()"
      ]
    },
    {
      "cell_type": "code",
      "execution_count": 42,
      "metadata": {
        "colab": {
          "base_uri": "https://localhost:8080/"
        },
        "id": "_dTNsjLt05-X",
        "outputId": "c51ec83c-a80f-43c7-a989-0364bd677180"
      },
      "outputs": [
        {
          "output_type": "stream",
          "name": "stdout",
          "text": [
            "Epoch 1/4\n",
            "49/49 [==============================] - 1s 5ms/step - loss: 0.4838 - accuracy: 0.7844\n",
            "Epoch 2/4\n",
            "49/49 [==============================] - 0s 5ms/step - loss: 0.3207 - accuracy: 0.8729\n",
            "Epoch 3/4\n",
            "49/49 [==============================] - 0s 5ms/step - loss: 0.2817 - accuracy: 0.8852\n",
            "Epoch 4/4\n",
            "49/49 [==============================] - 0s 5ms/step - loss: 0.2635 - accuracy: 0.8941\n"
          ]
        },
        {
          "output_type": "execute_result",
          "data": {
            "text/plain": [
              "<keras.src.callbacks.History at 0x7eb0040530a0>"
            ]
          },
          "metadata": {},
          "execution_count": 42
        }
      ],
      "source": [
        "model.fit(train_features_b, train_labels_b, epochs=4, batch_size=512)"
      ]
    },
    {
      "cell_type": "markdown",
      "metadata": {
        "id": "Sdsfw7sp05-Y"
      },
      "source": [
        "Model evaluation"
      ]
    },
    {
      "cell_type": "code",
      "execution_count": 43,
      "metadata": {
        "colab": {
          "base_uri": "https://localhost:8080/"
        },
        "id": "GMuAshAH05-Y",
        "outputId": "ea69366c-e4f9-4496-acc9-5847f1b4bcda"
      },
      "outputs": [
        {
          "output_type": "stream",
          "name": "stdout",
          "text": [
            "782/782 [==============================] - 1s 1ms/step - loss: 0.3175 - accuracy: 0.8681\n"
          ]
        }
      ],
      "source": [
        "final_loss, final_acc = model.evaluate(test_features_b, test_labels_b)"
      ]
    },
    {
      "cell_type": "markdown",
      "metadata": {
        "id": "xA8TpsYL05-Z"
      },
      "source": [
        "Final results"
      ]
    },
    {
      "cell_type": "code",
      "execution_count": 45,
      "metadata": {
        "colab": {
          "base_uri": "https://localhost:8080/"
        },
        "id": "ZXtpWQfo05-Z",
        "outputId": "81387367-61f3-4cbc-da3f-cf2bc2017e79"
      },
      "outputs": [
        {
          "output_type": "stream",
          "name": "stdout",
          "text": [
            "Final loss: 0.31752532720565796\n",
            "Final accuracy: 0.868120014667511\n"
          ]
        }
      ],
      "source": [
        "print(f\"Final loss: {final_loss}\")\n",
        "print(f\"Final accuracy: {final_acc}\")"
      ]
    }
  ],
  "metadata": {
    "kernelspec": {
      "display_name": "Python 3 (ipykernel)",
      "language": "python",
      "name": "python3"
    },
    "language_info": {
      "codemirror_mode": {
        "name": "ipython",
        "version": 3
      },
      "file_extension": ".py",
      "mimetype": "text/x-python",
      "name": "python",
      "nbconvert_exporter": "python",
      "pygments_lexer": "ipython3",
      "version": "3.10.12"
    },
    "colab": {
      "provenance": []
    }
  },
  "nbformat": 4,
  "nbformat_minor": 0
}